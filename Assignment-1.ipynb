{
 "cells": [
  {
   "cell_type": "markdown",
   "id": "1cfe8efd-d7d6-46b6-b116-70c191edf8a2",
   "metadata": {},
   "source": [
    "# Q1: Questions on Basic NumPy Array "
   ]
  },
  {
   "cell_type": "markdown",
   "id": "ef8878de-d9d7-4761-969b-8b7b03414cd1",
   "metadata": {},
   "source": [
    "### (a) Reverse the NumPy array: arr = np.array([1, 2, 3, 6, 4, 5])"
   ]
  },
  {
   "cell_type": "code",
   "execution_count": 4,
   "id": "768110a3-f09e-4864-b088-63f639baba90",
   "metadata": {},
   "outputs": [
    {
     "name": "stdout",
     "output_type": "stream",
     "text": [
      "[5 4 6 3 2 1]\n"
     ]
    }
   ],
   "source": [
    "import numpy as np\n",
    "arr=np.array([1,2,3,6,4,5])\n",
    "print(np.flip(arr))"
   ]
  },
  {
   "cell_type": "markdown",
   "id": "5414e723-2855-4123-81ce-46557dbd614a",
   "metadata": {},
   "source": [
    "### (b)Flatten the NumPy arr: array1 = np.array([[1, 2, 3], [2, 4, 5], [1, 2, 3]]) using any two \n",
    "### NumPy in-built methods"
   ]
  },
  {
   "cell_type": "code",
   "execution_count": null,
   "id": "428732b6-8a75-413e-91d6-72f547d922c9",
   "metadata": {},
   "outputs": [],
   "source": [
    "array1=np.array([[1,2,3],[2,4,5],[1,2,3]])\n",
    "print(array1.flatten())\n",
    "prnt(np.ravel(array1))"
   ]
  },
  {
   "cell_type": "markdown",
   "id": "ba5ea64f-f135-4251-8fab-8d081b9b8a75",
   "metadata": {},
   "source": [
    "### (c) Compare the following numpy arrays: \n",
    "### arr1 = np.array([[1, 2], [3, 4]]) \n",
    "### arr2 = np.array([[1, 2], [3, 4]]) "
   ]
  },
  {
   "cell_type": "code",
   "execution_count": 10,
   "id": "79d6311a-8126-4ec5-a39f-d3852e0a071c",
   "metadata": {},
   "outputs": [
    {
     "name": "stdout",
     "output_type": "stream",
     "text": [
      "[[ True  True]\n",
      " [ True  True]]\n"
     ]
    }
   ],
   "source": [
    "arr1 = np.array([[1, 2], [3, 4]]) \n",
    "arr2 = np.array([[1, 2], [3, 4]]) \n",
    "print(arr1==arr2)"
   ]
  },
  {
   "cell_type": "markdown",
   "id": "b68cf28c-d26a-43a6-9b90-1d10528076de",
   "metadata": {},
   "source": [
    "### (d) Find the most frequent value and their indice(s) in the following arrays: \n",
    "### i. x = np.array([1,2,3,4,5,1,2,1,1,1]) \n",
    "### ii. y = np.array([1, 1, 1, 2, 3, 4, 2, 4, 3, 3, ]) "
   ]
  },
  {
   "cell_type": "code",
   "execution_count": 13,
   "id": "c10f3c19-6328-4121-8aad-845b055b30c0",
   "metadata": {},
   "outputs": [
    {
     "name": "stdout",
     "output_type": "stream",
     "text": [
      "5 1\n",
      "3 1\n"
     ]
    }
   ],
   "source": [
    "x = np.array([1,2,3,4,5,1,2,1,1,1]) \n",
    "y = np.array([1, 1, 1, 2, 3, 4, 2, 4, 3, 3, ]) \n",
    "counts1=np.bincount(x)\n",
    "counts2=np.bincount(y)\n",
    "print(np.max(counts1),np.argmax(counts1))\n",
    "print(np.max(counts2),np.argmax(counts2))"
   ]
  },
  {
   "cell_type": "markdown",
   "id": "ff502fdc-3e50-4cfb-b96c-8c6d4346f0be",
   "metadata": {},
   "source": [
    "### (e) For the array gfg = np.matrix('[4, 1, 9; 12, 3, 1; 4, 5, 6]'), find \n",
    "### i. Sum of all elements \n",
    "### ii. Sum of all elements row-wise\n",
    "### iii. Sum of all elements column-wise"
   ]
  },
  {
   "cell_type": "code",
   "execution_count": 20,
   "id": "ad731fd0-edbd-4dfa-8cbf-bb97fc1abdbc",
   "metadata": {},
   "outputs": [
    {
     "name": "stdout",
     "output_type": "stream",
     "text": [
      "45\n",
      "[14 16 15]\n",
      "[20  9 16]\n"
     ]
    }
   ],
   "source": [
    "gfg = np.array([[4, 1, 9], [12, 3, 1] ,[4, 5, 6]])\n",
    "print(\"sum \",np.sum(gfg))\n",
    "print(\"sum row wise \",np.sum(gfg,axis=1))\n",
    "print(\"sum column wise \",np.sum(gfg,axis=0))"
   ]
  },
  {
   "cell_type": "markdown",
   "id": "8a6369a5-2833-4f7c-9a9b-8371971cfb9d",
   "metadata": {},
   "source": [
    "### (f) For the matrix: n_array = np.array([[55, 25, 15],[30, 44, 2],[11, 45, 77]]), find \n",
    "### i. Sum of diagonal elements \n",
    "### ii. Eigen values of matrix\n",
    "### iii. Eigen vectors of matrix \n",
    "### iv. Inverse of matrix\n",
    "### v. Determinant of matrix "
   ]
  },
  {
   "cell_type": "code",
   "execution_count": 23,
   "id": "a9e3fa0d-acc0-4f75-8b11-02db1361f78d",
   "metadata": {},
   "outputs": [
    {
     "name": "stdout",
     "output_type": "stream",
     "text": [
      "Sum of diagonal elements: 176\n",
      "Eigen values: [98.16835147 28.097044   49.73460452]\n",
      "Eigen vectors: [[ 0.4574917   0.34637121 -0.15017693]\n",
      " [ 0.28447814 -0.72784061 -0.4852124 ]\n",
      " [ 0.84248058  0.59184038  0.8614034 ]]\n",
      "Inverse matrix:\n",
      " [[ 0.02404141 -0.00911212 -0.00444671]\n",
      " [-0.01667882  0.02966905  0.0024785 ]\n",
      " [ 0.00631287 -0.01603732  0.01217379]]\n",
      "Determinant: 137180.0000000001\n"
     ]
    }
   ],
   "source": [
    "gfg= np.array([[55, 25, 15],\n",
    "                    [30, 44,  2],\n",
    "                    [11, 45, 77]])\n",
    "sum_diag= np.trace(gfg)\n",
    "print(\"Sum of diagonal elements:\", sum_diag)\n",
    "eigen_values, eigen_vectors = np.linalg.eig(gfg)\n",
    "print(\"Eigen values:\", eigen_values)\n",
    "print(\"Eigen vectors:\", eigen_vectors)\n",
    "inverse_matrix = np.linalg.inv(gfg)\n",
    "print(\"Inverse matrix:\\n\", inverse_matrix)\n",
    "determinant = np.linalg.det(gfg)\n",
    "print(\"Determinant:\", determinant)\n"
   ]
  },
  {
   "cell_type": "markdown",
   "id": "bdc996b9-59b9-4367-9c5c-0467c5879906",
   "metadata": {},
   "source": [
    "### (g) Multiply the following matrices and also find covariance between matrices using NumPy: \n",
    "### i. p = [[1, 2], [2, 3]] \n",
    "### q = [[4, 5], [6, 7]] \n",
    "### ii. p = [[1, 2], [2, 3], [4, 5]] \n",
    "### q = [[4, 5, 1], [6, 7, 2]] "
   ]
  },
  {
   "cell_type": "code",
   "execution_count": 4,
   "id": "ef6a5fe0-5b89-432f-bf72-b8fb2668b19a",
   "metadata": {},
   "outputs": [
    {
     "name": "stdout",
     "output_type": "stream",
     "text": [
      "Product:\n",
      " [[16 19]\n",
      " [26 31]]\n",
      "Covariance:\n",
      " [[0.5 0.5 1.  1. ]\n",
      " [0.5 0.5 1.  1. ]\n",
      " [1.  1.  2.  2. ]\n",
      " [1.  1.  2.  2. ]]\n"
     ]
    },
    {
     "data": {
      "text/plain": [
       "'mul2 = np.dot(p2, q2)\\ncov2 = np.cov(p2.T, q2.T)\\nprint(\"Product:\\n\", mul2)\\nprint(\"Covariance:\\n\", cov2)'"
      ]
     },
     "execution_count": 4,
     "metadata": {},
     "output_type": "execute_result"
    }
   ],
   "source": [
    "import numpy as np\n",
    "p1 = np.array([[1, 2], [2, 3]])\n",
    "q1 = np.array([[4, 5], [6, 7]])\n",
    "mul1 = np.dot(p1, q1)\n",
    "cov1 = np.cov(p1.T, q1.T)\n",
    "print(\"Product:\\n\", mul1)\n",
    "print(\"Covariance:\\n\", cov1)\n",
    "p2 = np.array([[1, 2], [2, 3], [4, 5]])\n",
    "q2 = np.array([[4, 5, 1], [6, 7, 2]])\n",
    "\"\"\"mul2 = np.dot(p2, q2)\n",
    "cov2 = np.cov(p2.T, q2.T)\n",
    "print(\"Product:\\n\", mul2)\n",
    "print(\"Covariance:\\n\", cov2)\"\"\"\n"
   ]
  },
  {
   "cell_type": "code",
   "execution_count": null,
   "id": "a72be4d5-7efb-431c-b831-b70f46422271",
   "metadata": {},
   "outputs": [],
   "source": [
    "(h) For the matrices: x = np.array([[2, 3, 4], [3, 2, 9]]); y = np.array([[1, 5, 0], [5, 10, 3]]), \n",
    "find inner, outer and cartesian product? "
   ]
  },
  {
   "cell_type": "markdown",
   "id": "f4998ba2-0ee3-4cd5-a3fb-8d1ed46c3c47",
   "metadata": {},
   "source": []
  },
  {
   "cell_type": "markdown",
   "id": "812b9b6a-a55c-42a5-8073-29a5970386e8",
   "metadata": {},
   "source": [
    "# Q2: Based on NumPy Mathematics and Statistics"
   ]
  },
  {
   "cell_type": "markdown",
   "id": "4350da19-ea63-4f92-b409-841e006e9fb9",
   "metadata": {},
   "source": [
    "### (a) For the array: array = np.array([[1, -2, 3],[-4, 5, -6]]) \n",
    "### i. Find element-wise absolute value\n",
    "### ii. Find the 25th, 50th, and 75th percentile of flattened array, for each column, for each \n",
    "### row. \n",
    "### iii. Mean, Median and Standard Deviation of flattened array, of each column, and \n",
    "### each row"
   ]
  },
  {
   "cell_type": "code",
   "execution_count": 8,
   "id": "4c1d2cc3-642c-4a89-b4b1-fb76deb2fcc9",
   "metadata": {},
   "outputs": [
    {
     "name": "stdout",
     "output_type": "stream",
     "text": [
      "[[1 2 3]\n",
      " [4 5 6]]\n",
      "25th, 50th, 75th (Flat): [-3.5 -0.5  2.5]\n",
      "Column: [[-2.75 -0.25 -3.75]\n",
      " [-1.5   1.5  -1.5 ]\n",
      " [-0.25  3.25  0.75]]\n",
      "Row: [[-0.5 -5. ]\n",
      " [ 1.  -4. ]\n",
      " [ 2.   0.5]]\n",
      "Mean (Flat): -0.5\n",
      "Median (Flat): -0.5\n",
      "Std (Flat): 3.8622100754188224\n"
     ]
    }
   ],
   "source": [
    "array = np.array([[1, -2, 3], [-4, 5, -6]])\n",
    "abs_array = np.abs(array)\n",
    "print(abs_array)\n",
    "flat = array.flatten()\n",
    "print(\"25th, 50th, 75th (Flat):\", np.percentile(flat, [25, 50, 75]))\n",
    "print(\"Column:\", np.percentile(array, [25, 50, 75], axis=0))\n",
    "print(\"Row:\", np.percentile(array, [25, 50, 75], axis=1))\n",
    "print(\"Mean (Flat):\", np.mean(flat))\n",
    "print(\"Median (Flat):\", np.median(flat))\n",
    "print(\"Std (Flat):\", np.std(flat))"
   ]
  },
  {
   "cell_type": "markdown",
   "id": "7d190257-4fe2-4436-af62-58bb6918ead4",
   "metadata": {},
   "source": [
    "### (b) for the array: a = np.array([-1.8, -1.6, -0.5, 0.5,1.6, 1.8, 3.0]). Find floor, ceiling \n",
    "### and truncated value, rounded values "
   ]
  },
  {
   "cell_type": "code",
   "execution_count": 9,
   "id": "b2b23725-92df-4d04-bbd4-74887dd0a89a",
   "metadata": {},
   "outputs": [
    {
     "name": "stdout",
     "output_type": "stream",
     "text": [
      "Floor: [-2. -2. -1.  0.  1.  1.  3.]\n",
      "Ceil: [-1. -1. -0.  1.  2.  2.  3.]\n",
      "Truncated: [-1. -1. -0.  0.  1.  1.  3.]\n",
      "Rounded: [-2. -2. -0.  0.  2.  2.  3.]\n"
     ]
    }
   ],
   "source": [
    "a = np.array([-1.8, -1.6, -0.5, 0.5, 1.6, 1.8, 3.0])\n",
    "print(\"Floor:\", np.floor(a))\n",
    "print(\"Ceil:\", np.ceil(a))\n",
    "print(\"Truncated:\", np.trunc(a))\n",
    "print(\"Rounded:\", np.round(a))"
   ]
  },
  {
   "cell_type": "markdown",
   "id": "13d247f9-7ee8-48e5-ada7-4bddf108bfb5",
   "metadata": {},
   "source": [
    "# Q3: Based on Searching and Sorting "
   ]
  },
  {
   "cell_type": "markdown",
   "id": "e405204d-6739-4ce7-8076-ff97d5513d3f",
   "metadata": {},
   "source": [
    "### (a) For the array: array = np.array([10, 52, 62, 16, 16, 54, 453]), find \n",
    "### i. Sorted array \n",
    "### ii.Indices of sorted array \n",
    "### iii. 4 smallest elements \n",
    "### iv. 5 largest elements"
   ]
  },
  {
   "cell_type": "code",
   "execution_count": 10,
   "id": "eb5c7759-3355-43fc-84c6-49ae080eafa8",
   "metadata": {},
   "outputs": [
    {
     "name": "stdout",
     "output_type": "stream",
     "text": [
      "Sorted: [ 10  16  16  52  54  62 453]\n",
      "Indices: [0 3 4 1 5 2 6]\n",
      "Smallest 4: [10 16 16 52]\n",
      "Largest 5: [ 16  52  54  62 453]\n"
     ]
    }
   ],
   "source": [
    "array = np.array([10, 52, 62, 16, 16, 54, 453])\n",
    "sorted_arr = np.sort(array)\n",
    "indices = np.argsort(array)\n",
    "smallest_4 = np.sort(array)[:4]\n",
    "largest_5 = np.sort(array)[-5:]\n",
    "print(\"Sorted:\", sorted_arr)\n",
    "print(\"Indices:\", indices)\n",
    "print(\"Smallest 4:\", smallest_4)\n",
    "print(\"Largest 5:\", largest_5)"
   ]
  },
  {
   "cell_type": "markdown",
   "id": "2f14c153-274d-410c-9ab0-0fc81165c358",
   "metadata": {},
   "source": [
    "### (b) For the array: array = np.array([1.0, 1.2, 2.2, 2.0, 3.0, 2.0]), find \n",
    "### i. Integer elements only \n",
    "### ii. Float elements only  "
   ]
  },
  {
   "cell_type": "code",
   "execution_count": 11,
   "id": "7d183fde-46d4-4b63-9409-a0121a731464",
   "metadata": {},
   "outputs": [
    {
     "name": "stdout",
     "output_type": "stream",
     "text": [
      "Integers: [1. 2. 3. 2.]\n",
      "Floats: [1.2 2.2]\n"
     ]
    }
   ],
   "source": [
    "array = np.array([1.0, 1.2, 2.2, 2.0, 3.0, 2.0])\n",
    "int_elements = array[array == array.astype(int)]\n",
    "float_elements = array[array != array.astype(int)]\n",
    "print(\"Integers:\", int_elements)\n",
    "print(\"Floats:\", float_elements)"
   ]
  },
  {
   "cell_type": "code",
   "execution_count": null,
   "id": "703ca72a-3343-42b3-8242-782915366706",
   "metadata": {},
   "outputs": [],
   "source": []
  }
 ],
 "metadata": {
  "kernelspec": {
   "display_name": "Python [conda env:base] *",
   "language": "python",
   "name": "conda-base-py"
  },
  "language_info": {
   "codemirror_mode": {
    "name": "ipython",
    "version": 3
   },
   "file_extension": ".py",
   "mimetype": "text/x-python",
   "name": "python",
   "nbconvert_exporter": "python",
   "pygments_lexer": "ipython3",
   "version": "3.13.5"
  }
 },
 "nbformat": 4,
 "nbformat_minor": 5
}
